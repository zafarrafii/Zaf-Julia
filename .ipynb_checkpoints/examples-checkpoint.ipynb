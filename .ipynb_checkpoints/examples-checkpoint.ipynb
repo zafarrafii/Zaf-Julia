{
 "cells": [
  {
   "cell_type": "markdown",
   "metadata": {},
   "source": [
    "# Examples"
   ]
  },
  {
   "cell_type": "markdown",
   "metadata": {},
   "source": [
    "This Jupyter notebook shows some examples for the different functions of the Julia module `zaf`.\n",
    "\n",
    "Functions:\n",
    "- `stft` - [Short-time Fourier transform (STFT)](#stft)\n",
    "- `istft` - [Inverse STFT](#istft)\n",
    "- `cqtkernel` - [Constant-Q transform (CQT) kernel](#cqtkernel)\n",
    "- `cqtspectrogram` - [CQT spectrogram using a CQT kernel](#cqtspectrogram)\n",
    "- `cqtchromagram` - [CQT chromagram using a CQT kernel](#cqtchromagram)\n",
    "- `mfcc` - [Mel frequency cepstrum coefficients (MFCCs)](#mfcc)\n",
    "- `dct` - [Discrete cosine transform (DCT) using the fast Fourier transform (FFT)](#dct)\n",
    "- `dst` - [Discrete sine transform (DST) using the FFT](#dst)\n",
    "- `mdct` - [Modified discrete cosine transform (MDCT) using the FFT](#mdct)\n",
    "- `imdct` - [Inverse MDCT using the FFT](#imdct)\n",
    "\n",
    "Other:\n",
    "- `wavread` - Read a WAVE file (using Scipy)\n",
    "- `wavwrite` - Write a WAVE file (using SciPy)\n",
    "- `sigplot` - Plot an audio signal in seconds\n",
    "- `specshow` - Display an audio spectrogram in dB, seconds, and Hz\n",
    "- `cqtspecshow` - Display a CQT audio spectrogram in dB, seconds, and Hz\n",
    "- `cqtchromshow` - Display a CQT audio chromagram in seconds and chroma\n",
    "\n",
    "\n",
    "Author:\n",
    "- Zafar Rafii\n",
    "- zafarrafii@gmail.com\n",
    "- http://zafarrafii.com\n",
    "- https://github.com/zafarrafii\n",
    "- https://www.linkedin.com/in/zafarrafii/\n",
    "- 11/10/20"
   ]
  },
  {
   "cell_type": "markdown",
   "metadata": {},
   "source": [
    "## <a id=\"stft\"></a>Short-time Fourier transform (STFT)"
   ]
  },
  {
   "cell_type": "markdown",
   "metadata": {},
   "source": [
    "```\n",
    "audio_stft = zaf.stft(audio_signal, window_function, step_length)\n",
    "\n",
    "Inputs:\n",
    "    audio_signal: audio signal (number_samples,)\n",
    "    window_function: window function (window_length,)\n",
    "    step_length: step length in samples\n",
    "Output:\n",
    "    audio_stft: audio STFT (window_length, number_frames)\n",
    "```"
   ]
  },
  {
   "cell_type": "markdown",
   "metadata": {},
   "source": [
    "### Example: compute and display the spectrogram from an audio file"
   ]
  },
  {
   "cell_type": "code",
   "execution_count": 17,
   "metadata": {},
   "outputs": [
    {
     "name": "stderr",
     "output_type": "stream",
     "text": [
      "WARNING: replacing module zaf.\n"
     ]
    }
   ],
   "source": [
    "# Load the modules\n",
    "include(\"./zaf.jl\")\n",
    "using .zaf\n",
    "using WAV\n",
    "using Statistics\n",
    "\n",
    "# Read the audio signal (normalized) with its sampling frequency in Hz, and average it over its channels\n",
    "audio_signal, sampling_frequency = wavread(\"audio_file.wav\");\n",
    "audio_signal = mean(audio_signal, dims=2);\n",
    "\n",
    "# Set the window duration in seconds (audio is stationary around 40 milliseconds)\n",
    "window_duration = 0.04;\n",
    "\n",
    "# Derive the window length in samples (use powers of 2 for faster FFT and constant overlap-add (COLA))\n",
    "window_length = nextpow(2, ceil(Int, window_duration*sampling_frequency));\n",
    "\n",
    "# Compute the window function (periodic Hamming window for COLA)\n",
    "window_function = zaf.hamming(window_length, \"periodic\");\n",
    "\n",
    "# Set the step length in samples (half of the window length for COLA)\n",
    "step_length = convert(Int, window_length/2);\n",
    "\n",
    "# Compute the STFT\n",
    "audio_stft = zaf.stft(audio_signal, window_function, step_length)\n",
    "\n",
    "# Derive the magnitude spectrogram (without the DC component and the mirrored frequencies)\n",
    "audio_spectrogram = abs.(audio_stft[2:convert(Int, window_length/2)+1, :])\n",
    "\n",
    "# Magnitude spectrogram (without the DC component and the mirrored frequencies)\n",
    "audio_spectrogram = abs.(audio_stft[2:convert(Int64, window_length/2)+1,:]);\n",
    "\n",
    "# # Spectrogram displayed in dB, s, and kHz\n",
    "# Pkg.add(\"Plots\")\n",
    "# using Plots\n",
    "# plotly()\n",
    "# x_labels = [string(round(i*step_length/sample_rate, 2)) for i = 1:size(audio_spectrogram, 2)];\n",
    "# y_labels = [string(round(i*sample_rate/window_length/1000, 2)) for i = 1:size(audio_spectrogram, 1)];\n",
    "# heatmap(x_labels, y_labels, 20*log10.(audio_spectrogram))"
   ]
  }
 ],
 "metadata": {
  "kernelspec": {
   "display_name": "JuliaPro_v1.5.2-1 1.5.2",
   "language": "julia",
   "name": "juliapro_v1.5.2-1-1.5"
  },
  "language_info": {
   "file_extension": ".jl",
   "mimetype": "application/julia",
   "name": "julia",
   "version": "1.5.2"
  }
 },
 "nbformat": 4,
 "nbformat_minor": 2
}
