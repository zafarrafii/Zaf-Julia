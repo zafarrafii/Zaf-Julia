{
 "cells": [
  {
   "cell_type": "markdown",
   "metadata": {},
   "source": [
    "# Examples"
   ]
  },
  {
   "cell_type": "markdown",
   "metadata": {},
   "source": [
    "This Jupyter notebook shows some examples for the different functions of the Julia module `zaf`.\n",
    "\n",
    "Functions:\n",
    "- `stft` - [Short-time Fourier transform (STFT)](#stft)\n",
    "- `istft` - [Inverse STFT](#istft)\n",
    "- `cqtkernel` - [Constant-Q transform (CQT) kernel](#cqtkernel)\n",
    "- `cqtspectrogram` - [CQT spectrogram using a CQT kernel](#cqtspectrogram)\n",
    "- `cqtchromagram` - [CQT chromagram using a CQT kernel](#cqtchromagram)\n",
    "- `mfcc` - [Mel frequency cepstrum coefficients (MFCCs)](#mfcc)\n",
    "- `dct` - [Discrete cosine transform (DCT) using the fast Fourier transform (FFT)](#dct)\n",
    "- `dst` - [Discrete sine transform (DST) using the FFT](#dst)\n",
    "- `mdct` - [Modified discrete cosine transform (MDCT) using the FFT](#mdct)\n",
    "- `imdct` - [Inverse MDCT using the FFT](#imdct)\n",
    "\n",
    "Other:\n",
    "- `wavread` - Read a WAVE file (using Scipy)\n",
    "- `wavwrite` - Write a WAVE file (using SciPy)\n",
    "- `sigplot` - Plot an audio signal in seconds\n",
    "- `specshow` - Display an audio spectrogram in dB, seconds, and Hz\n",
    "- `cqtspecshow` - Display a CQT audio spectrogram in dB, seconds, and Hz\n",
    "- `cqtchromshow` - Display a CQT audio chromagram in seconds and chroma\n",
    "\n",
    "\n",
    "Author:\n",
    "- Zafar Rafii\n",
    "- zafarrafii@gmail.com\n",
    "- http://zafarrafii.com\n",
    "- https://github.com/zafarrafii\n",
    "- https://www.linkedin.com/in/zafarrafii/\n",
    "- 11/04/20"
   ]
  },
  {
   "cell_type": "markdown",
   "metadata": {},
   "source": [
    "## <a id=\"stft\"></a>Short-time Fourier transform (STFT)"
   ]
  },
  {
   "cell_type": "markdown",
   "metadata": {},
   "source": [
    "```\n",
    "audio_stft = zaf.stft(audio_signal, window_function, step_length)\n",
    "\n",
    "Inputs:\n",
    "    audio_signal: audio signal (number_samples,)\n",
    "    window_function: window function (window_length,)\n",
    "    step_length: step length in samples\n",
    "Output:\n",
    "    audio_stft: audio STFT (window_length, number_frames)\n",
    "```"
   ]
  },
  {
   "cell_type": "code",
   "execution_count": 1,
   "metadata": {},
   "outputs": [
    {
     "data": {
      "text/plain": [
       "Main.zaf"
      ]
     },
     "execution_count": 1,
     "metadata": {},
     "output_type": "execute_result"
    }
   ],
   "source": [
    "include(\"zaf.jl\")"
   ]
  },
  {
   "cell_type": "code",
   "execution_count": 2,
   "metadata": {},
   "outputs": [
    {
     "data": {
      "text/latex": [
       "This Julia module implements a number of functions for audio signal analysis.\n",
       "\n",
       "\\section{Functions:}\n",
       "\\begin{verbatim}\n",
       "stft - Short-time Fourier transform (STFT)\n",
       "istft - inverse STFT\n",
       "cqtkernel - Constant-Q transform (CQT) kernel\n",
       "cqtspectrogram - CQT spectrogram using a CQT kernel\n",
       "cqtchromagram - CQT chromagram using a CQT kernel\n",
       "mfcc - Mel frequency cepstrum coefficients (MFCCs)\n",
       "dct - Discrete cosine transform (DCT) using the fast Fourier transform (FFT)\n",
       "dst - Discrete sine transform (DST) using the FFT\n",
       "mdct - Modified discrete cosine transform (MDCT) using the FFT\n",
       "imdct - Inverse MDCT using the FFT\n",
       "\\end{verbatim}\n",
       "\\section{Other:}\n",
       "\\begin{verbatim}\n",
       "wavread - Read a WAVE file (using Scipy)\n",
       "wavwrite - Write a WAVE file (using Scipy)\n",
       "sigplot - Plot an audio signal in seconds\n",
       "specshow - Display an audio spectrogram in dB, seconds, and Hz\n",
       "cqtspecshow - Display a CQT audio spectrogram in dB, seconds, and Hz\n",
       "cqtchromshow - Display a CQT audio chromagram in seconds\n",
       "\\end{verbatim}\n",
       "\\section{Author:}\n",
       "\\begin{verbatim}\n",
       "Zafar Rafii\n",
       "zafarrafii@gmail.com\n",
       "http://zafarrafii.com\n",
       "https://github.com/zafarrafii\n",
       "https://www.linkedin.com/in/zafarrafii/\n",
       "11/09/20\n",
       "\\end{verbatim}\n"
      ],
      "text/markdown": [
       "This Julia module implements a number of functions for audio signal analysis.\n",
       "\n",
       "# Functions:\n",
       "\n",
       "```\n",
       "stft - Short-time Fourier transform (STFT)\n",
       "istft - inverse STFT\n",
       "cqtkernel - Constant-Q transform (CQT) kernel\n",
       "cqtspectrogram - CQT spectrogram using a CQT kernel\n",
       "cqtchromagram - CQT chromagram using a CQT kernel\n",
       "mfcc - Mel frequency cepstrum coefficients (MFCCs)\n",
       "dct - Discrete cosine transform (DCT) using the fast Fourier transform (FFT)\n",
       "dst - Discrete sine transform (DST) using the FFT\n",
       "mdct - Modified discrete cosine transform (MDCT) using the FFT\n",
       "imdct - Inverse MDCT using the FFT\n",
       "```\n",
       "\n",
       "# Other:\n",
       "\n",
       "```\n",
       "wavread - Read a WAVE file (using Scipy)\n",
       "wavwrite - Write a WAVE file (using Scipy)\n",
       "sigplot - Plot an audio signal in seconds\n",
       "specshow - Display an audio spectrogram in dB, seconds, and Hz\n",
       "cqtspecshow - Display a CQT audio spectrogram in dB, seconds, and Hz\n",
       "cqtchromshow - Display a CQT audio chromagram in seconds\n",
       "```\n",
       "\n",
       "# Author:\n",
       "\n",
       "```\n",
       "Zafar Rafii\n",
       "zafarrafii@gmail.com\n",
       "http://zafarrafii.com\n",
       "https://github.com/zafarrafii\n",
       "https://www.linkedin.com/in/zafarrafii/\n",
       "11/09/20\n",
       "```\n"
      ],
      "text/plain": [
       "  This Julia module implements a number of functions for audio signal\n",
       "  analysis.\n",
       "\n",
       "\u001b[1m  Functions:\u001b[22m\n",
       "\u001b[1m  ≡≡≡≡≡≡≡≡≡≡≡≡\u001b[22m\n",
       "\n",
       "\u001b[36m  stft - Short-time Fourier transform (STFT)\u001b[39m\n",
       "\u001b[36m  istft - inverse STFT\u001b[39m\n",
       "\u001b[36m  cqtkernel - Constant-Q transform (CQT) kernel\u001b[39m\n",
       "\u001b[36m  cqtspectrogram - CQT spectrogram using a CQT kernel\u001b[39m\n",
       "\u001b[36m  cqtchromagram - CQT chromagram using a CQT kernel\u001b[39m\n",
       "\u001b[36m  mfcc - Mel frequency cepstrum coefficients (MFCCs)\u001b[39m\n",
       "\u001b[36m  dct - Discrete cosine transform (DCT) using the fast Fourier transform (FFT)\u001b[39m\n",
       "\u001b[36m  dst - Discrete sine transform (DST) using the FFT\u001b[39m\n",
       "\u001b[36m  mdct - Modified discrete cosine transform (MDCT) using the FFT\u001b[39m\n",
       "\u001b[36m  imdct - Inverse MDCT using the FFT\u001b[39m\n",
       "\n",
       "\u001b[1m  Other:\u001b[22m\n",
       "\u001b[1m  ≡≡≡≡≡≡≡≡\u001b[22m\n",
       "\n",
       "\u001b[36m  wavread - Read a WAVE file (using Scipy)\u001b[39m\n",
       "\u001b[36m  wavwrite - Write a WAVE file (using Scipy)\u001b[39m\n",
       "\u001b[36m  sigplot - Plot an audio signal in seconds\u001b[39m\n",
       "\u001b[36m  specshow - Display an audio spectrogram in dB, seconds, and Hz\u001b[39m\n",
       "\u001b[36m  cqtspecshow - Display a CQT audio spectrogram in dB, seconds, and Hz\u001b[39m\n",
       "\u001b[36m  cqtchromshow - Display a CQT audio chromagram in seconds\u001b[39m\n",
       "\n",
       "\u001b[1m  Author:\u001b[22m\n",
       "\u001b[1m  ≡≡≡≡≡≡≡≡≡\u001b[22m\n",
       "\n",
       "\u001b[36m  Zafar Rafii\u001b[39m\n",
       "\u001b[36m  zafarrafii@gmail.com\u001b[39m\n",
       "\u001b[36m  http://zafarrafii.com\u001b[39m\n",
       "\u001b[36m  https://github.com/zafarrafii\u001b[39m\n",
       "\u001b[36m  https://www.linkedin.com/in/zafarrafii/\u001b[39m\n",
       "\u001b[36m  11/09/20\u001b[39m"
      ]
     },
     "execution_count": 2,
     "metadata": {},
     "output_type": "execute_result"
    }
   ],
   "source": [
    "using .zaf\n",
    "\n",
    "@doc zaf"
   ]
  }
 ],
 "metadata": {
  "kernelspec": {
   "display_name": "JuliaPro_v1.5.2-1 1.5.2",
   "language": "julia",
   "name": "juliapro_v1.5.2-1-1.5"
  },
  "language_info": {
   "file_extension": ".jl",
   "mimetype": "application/julia",
   "name": "julia",
   "version": "1.5.2"
  }
 },
 "nbformat": 4,
 "nbformat_minor": 2
}
