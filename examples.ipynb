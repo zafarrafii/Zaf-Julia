{
 "cells": [
  {
   "cell_type": "markdown",
   "metadata": {},
   "source": [
    "# Examples"
   ]
  },
  {
   "cell_type": "markdown",
   "metadata": {},
   "source": [
    "This Jupyter notebook shows some examples for the different functions of the Julia module `zaf`.\n",
    "\n",
    "Functions:\n",
    "- `stft` - [Short-time Fourier transform (STFT)](#stft)\n",
    "- `istft` - [Inverse STFT](#istft)\n",
    "- `cqtkernel` - [Constant-Q transform (CQT) kernel](#cqtkernel)\n",
    "- `cqtspectrogram` - [CQT spectrogram using a CQT kernel](#cqtspectrogram)\n",
    "- `cqtchromagram` - [CQT chromagram using a CQT kernel](#cqtchromagram)\n",
    "- `mfcc` - [Mel frequency cepstrum coefficients (MFCCs)](#mfcc)\n",
    "- `dct` - [Discrete cosine transform (DCT) using the fast Fourier transform (FFT)](#dct)\n",
    "- `dst` - [Discrete sine transform (DST) using the FFT](#dst)\n",
    "- `mdct` - [Modified discrete cosine transform (MDCT) using the FFT](#mdct)\n",
    "- `imdct` - [Inverse MDCT using the FFT](#imdct)\n",
    "\n",
    "Other:\n",
    "- `wavread` - Read a WAVE file (using Scipy)\n",
    "- `wavwrite` - Write a WAVE file (using SciPy)\n",
    "- `sigplot` - Plot an audio signal in seconds\n",
    "- `specshow` - Display an audio spectrogram in dB, seconds, and Hz\n",
    "- `cqtspecshow` - Display a CQT audio spectrogram in dB, seconds, and Hz\n",
    "- `cqtchromshow` - Display a CQT audio chromagram in seconds and chroma\n",
    "\n",
    "\n",
    "Author:\n",
    "- Zafar Rafii\n",
    "- zafarrafii@gmail.com\n",
    "- http://zafarrafii.com\n",
    "- https://github.com/zafarrafii\n",
    "- https://www.linkedin.com/in/zafarrafii/\n",
    "- 11/04/20"
   ]
  },
  {
   "cell_type": "markdown",
   "metadata": {},
   "source": [
    "## <a id=\"stft\"></a>Short-time Fourier transform (STFT)"
   ]
  },
  {
   "cell_type": "markdown",
   "metadata": {},
   "source": [
    "```\n",
    "audio_stft = zaf.stft(audio_signal, window_function, step_length)\n",
    "\n",
    "Inputs:\n",
    "    audio_signal: audio signal [number_samples,]\n",
    "    window_function: window function [window_length,]\n",
    "    step_length: step length in samples\n",
    "Output:\n",
    "    audio_stft: audio STFT [window_length, number_frames]\n",
    "```"
   ]
  }
 ],
 "metadata": {
  "kernelspec": {
   "display_name": "JuliaPro_v1.5.2-1 1.5.2",
   "language": "julia",
   "name": "juliapro_v1.5.2-1-1.5"
  },
  "language_info": {
   "file_extension": ".jl",
   "mimetype": "application/julia",
   "name": "julia",
   "version": "1.5.2"
  }
 },
 "nbformat": 4,
 "nbformat_minor": 2
}
